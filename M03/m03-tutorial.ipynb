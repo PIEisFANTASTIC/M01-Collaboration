{
 "cells": [
  {
   "cell_type": "code",
   "execution_count": 3,
   "metadata": {},
   "outputs": [
    {
     "name": "stdout",
     "output_type": "stream",
     "text": [
      "Default/Unsorted: [0, 2, 2, 2, 1, 1, 2]\n",
      "Sorted: [0, 1, 1, 2, 2, 2, 2]\n"
     ]
    }
   ],
   "source": [
    "from random import randint\n",
    "number = None\n",
    "array = []\n",
    "while not number:\n",
    "    number = input(\"Length of array? \")\n",
    "    if number.isalpha():\n",
    "        continue\n",
    "\n",
    "for _ in range(int(number)):\n",
    "    array.append(randint(0,2))\n",
    "print(f\"Default/Unsorted: {array}\")\n",
    "array.sort()\n",
    "print(f\"Sorted: {array}\")"
   ]
  },
  {
   "cell_type": "code",
   "execution_count": 8,
   "metadata": {},
   "outputs": [
    {
     "name": "stdout",
     "output_type": "stream",
     "text": [
      "[1, 11, 15, 26, 40, 42, 44, 46, 47, 68, 70, 72, 73, 73, 75, 81, 81, 82, 85, 88, 90, 94, 95, 97]\n",
      "Your guess is in index 4.\n"
     ]
    }
   ],
   "source": [
    "from random import randint\n",
    "number = None\n",
    "guess = None\n",
    "array = []\n",
    "while not number:\n",
    "    number = input(\"Length of array? \")\n",
    "    if number.isalpha():\n",
    "        continue\n",
    "\n",
    "for _ in range(int(number)):\n",
    "    array.append(randint(0,100))\n",
    "array.sort()\n",
    "print(array)\n",
    "\n",
    "while not guess:\n",
    "    guess = input(\"Guess number in array? \")\n",
    "    if guess.isalpha():\n",
    "        continue\n",
    "\n",
    "if int(guess) in array:\n",
    "    print(f\"Your guess is in index {array.index(int(guess))}.\")\n",
    "else:\n",
    "    print(\"Your guess was not in the array.\")"
   ]
  }
 ],
 "metadata": {
  "kernelspec": {
   "display_name": "Python 3",
   "language": "python",
   "name": "python3"
  },
  "language_info": {
   "codemirror_mode": {
    "name": "ipython",
    "version": 3
   },
   "file_extension": ".py",
   "mimetype": "text/x-python",
   "name": "python",
   "nbconvert_exporter": "python",
   "pygments_lexer": "ipython3",
   "version": "3.10.11"
  }
 },
 "nbformat": 4,
 "nbformat_minor": 2
}
